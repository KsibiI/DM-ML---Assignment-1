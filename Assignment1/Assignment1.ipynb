{
  "nbformat": 4,
  "nbformat_minor": 0,
  "metadata": {
    "colab": {
      "name": "Assignment1.ipynb",
      "provenance": [],
      "collapsed_sections": [],
      "include_colab_link": true
    },
    "kernelspec": {
      "name": "python3",
      "display_name": "Python 3"
    },
    "language_info": {
      "name": "python"
    }
  },
  "cells": [
    {
      "cell_type": "markdown",
      "metadata": {
        "id": "view-in-github",
        "colab_type": "text"
      },
      "source": [
        "<a href=\"https://colab.research.google.com/github/KsibiI/DM-ML---Assignment-1/blob/main/Assignment1/Assignment1.ipynb\" target=\"_parent\"><img src=\"https://colab.research.google.com/assets/colab-badge.svg\" alt=\"Open In Colab\"/></a>"
      ]
    },
    {
      "cell_type": "markdown",
      "metadata": {
        "id": "iwAXDYpDDSB5"
      },
      "source": [
        "# Data Mining and Machine Learning - Assignment 1\n",
        "\n",
        "> Topics Covered: Data Cleaning, Exploratory Data Analysis, Visualization and Regression 1 and 2 (up to and including week 5)\n",
        "\n",
        "**Due: Sunday November 7, 23.59pm**\n",
        "\n",
        "\n",
        "This assignment is the opportunity to apply the different concepts seen in class so far to a new dataset on the sales of a store.\n",
        "\n",
        "Run the first few cells to load the dataset and then get started with the questions! \n",
        "\n",
        "To complete the assignment you have to do ***both***:\n",
        "\n",
        "1. Complete the exercises and submit [your Python notebook](https://moodle.unil.ch/mod/assign/view.php?id=841447)\n",
        "2. Answer the questions to [the quiz on Moodle](https://moodle.unil.ch/mod/quiz/view.php?id=1172387) \n",
        ">Note: You can only complete the quiz one time. Have your notebook with the asnwers ready for answering the quiz. \n",
        "\n",
        "The answers to the quiz should be supported by your code in the notebook. If they are not, you will not receive points for them.\n",
        "\n",
        "**IMPORTANT!** You can discuss the questions with other students but **do not exchange code!** This is individual work. We will run your code and check for similarities.\n",
        "\n",
        "You can post your questions in slack [channel #assignments](https://app.slack.com/client/T02C4KVGVMX/C02BBA2TFQF).\n",
        "\n",
        "\n",
        "If there is need for further clarifications on the questions, after the assignment is released, we will update the file on GitHub, so make sure you check the git repo of the class for updates.\n",
        "\n",
        "Good luck!"
      ]
    },
    {
      "cell_type": "code",
      "metadata": {
        "id": "zWUCxcA6TKAI"
      },
      "source": [
        "# Import required packages\n",
        "\n",
        "import pandas as pd\n",
        "import numpy as np\n",
        "import matplotlib.pyplot as plt\n",
        "import seaborn as sns\n",
        "%matplotlib inline\n",
        "sns.set_style(\"whitegrid\")"
      ],
      "execution_count": 44,
      "outputs": []
    },
    {
      "cell_type": "code",
      "metadata": {
        "id": "bksyZc4p0hVZ"
      },
      "source": [
        "# Load the data\n",
        "df=pd.read_csv('https://raw.githubusercontent.com/michalis0/DataMining_and_MachineLearning/master/data/sales.csv')"
      ],
      "execution_count": 45,
      "outputs": []
    },
    {
      "cell_type": "markdown",
      "metadata": {
        "id": "3RQLjcgCBwVt"
      },
      "source": [
        "For the first part we use data on the retail sales of a store over several years. The dataset includes information on items purchased from this store, including for each item or article:\n",
        "* order ID (a unique identifyier of the order through which this item was purchased)\n",
        "* date of the order\n",
        "* date the shipment was made\n",
        "* mode of shipment used (first class, second class, etc.)\n",
        "* customer ID (unique identifyier of the client)\n",
        "* customer name\n",
        "* client segment (consumer, corporate, etc.)\n",
        "* country, city, state, postal code, region of the client\n",
        "* product ID, product category, sub-category, and product name\n",
        "* sales value for purchased items in USD."
      ]
    },
    {
      "cell_type": "markdown",
      "metadata": {
        "id": "xKdL7SxJH7Nw"
      },
      "source": [
        "## 1. Understand and Clean the Dataset\n",
        "\n",
        ">1.1 Show the first 5 or 10 rows to get an idea of the data. "
      ]
    },
    {
      "cell_type": "code",
      "metadata": {
        "id": "bJQn3lz313aL",
        "colab": {
          "base_uri": "https://localhost:8080/",
          "height": 940
        },
        "outputId": "bc165cfb-9556-405f-b331-9377fa71038c"
      },
      "source": [
        "# YOUR CODE HERE\n",
        "df.head(10)"
      ],
      "execution_count": 46,
      "outputs": [
        {
          "output_type": "execute_result",
          "data": {
            "text/html": [
              "<div>\n",
              "<style scoped>\n",
              "    .dataframe tbody tr th:only-of-type {\n",
              "        vertical-align: middle;\n",
              "    }\n",
              "\n",
              "    .dataframe tbody tr th {\n",
              "        vertical-align: top;\n",
              "    }\n",
              "\n",
              "    .dataframe thead th {\n",
              "        text-align: right;\n",
              "    }\n",
              "</style>\n",
              "<table border=\"1\" class=\"dataframe\">\n",
              "  <thead>\n",
              "    <tr style=\"text-align: right;\">\n",
              "      <th></th>\n",
              "      <th>Row ID</th>\n",
              "      <th>Order ID</th>\n",
              "      <th>Order Date</th>\n",
              "      <th>Ship Date</th>\n",
              "      <th>Ship Mode</th>\n",
              "      <th>Customer ID</th>\n",
              "      <th>Customer Name</th>\n",
              "      <th>Segment</th>\n",
              "      <th>Country</th>\n",
              "      <th>City</th>\n",
              "      <th>State</th>\n",
              "      <th>Postal Code</th>\n",
              "      <th>Region</th>\n",
              "      <th>Product ID</th>\n",
              "      <th>Category</th>\n",
              "      <th>Sub-Category</th>\n",
              "      <th>Product Name</th>\n",
              "      <th>Sales</th>\n",
              "    </tr>\n",
              "  </thead>\n",
              "  <tbody>\n",
              "    <tr>\n",
              "      <th>0</th>\n",
              "      <td>1</td>\n",
              "      <td>CA-2017-152156</td>\n",
              "      <td>08/11/2017</td>\n",
              "      <td>11/11/2017</td>\n",
              "      <td>Second Class</td>\n",
              "      <td>CG-12520</td>\n",
              "      <td>Claire Gute</td>\n",
              "      <td>Consumer</td>\n",
              "      <td>United States</td>\n",
              "      <td>Henderson</td>\n",
              "      <td>Kentucky</td>\n",
              "      <td>42420.0</td>\n",
              "      <td>South</td>\n",
              "      <td>FUR-BO-10001798</td>\n",
              "      <td>Furniture</td>\n",
              "      <td>Bookcases</td>\n",
              "      <td>Bush Somerset Collection Bookcase</td>\n",
              "      <td>261.9600</td>\n",
              "    </tr>\n",
              "    <tr>\n",
              "      <th>1</th>\n",
              "      <td>2</td>\n",
              "      <td>CA-2017-152156</td>\n",
              "      <td>08/11/2017</td>\n",
              "      <td>11/11/2017</td>\n",
              "      <td>Second Class</td>\n",
              "      <td>CG-12520</td>\n",
              "      <td>Claire Gute</td>\n",
              "      <td>Consumer</td>\n",
              "      <td>United States</td>\n",
              "      <td>Henderson</td>\n",
              "      <td>Kentucky</td>\n",
              "      <td>42420.0</td>\n",
              "      <td>South</td>\n",
              "      <td>FUR-CH-10000454</td>\n",
              "      <td>Furniture</td>\n",
              "      <td>Chairs</td>\n",
              "      <td>Hon Deluxe Fabric Upholstered Stacking Chairs,...</td>\n",
              "      <td>731.9400</td>\n",
              "    </tr>\n",
              "    <tr>\n",
              "      <th>2</th>\n",
              "      <td>3</td>\n",
              "      <td>CA-2017-138688</td>\n",
              "      <td>12/06/2017</td>\n",
              "      <td>16/06/2017</td>\n",
              "      <td>Second Class</td>\n",
              "      <td>DV-13045</td>\n",
              "      <td>Darrin Van Huff</td>\n",
              "      <td>Corporate</td>\n",
              "      <td>United States</td>\n",
              "      <td>Los Angeles</td>\n",
              "      <td>California</td>\n",
              "      <td>90036.0</td>\n",
              "      <td>West</td>\n",
              "      <td>OFF-LA-10000240</td>\n",
              "      <td>Office Supplies</td>\n",
              "      <td>Labels</td>\n",
              "      <td>Self-Adhesive Address Labels for Typewriters b...</td>\n",
              "      <td>14.6200</td>\n",
              "    </tr>\n",
              "    <tr>\n",
              "      <th>3</th>\n",
              "      <td>4</td>\n",
              "      <td>US-2016-108966</td>\n",
              "      <td>11/10/2016</td>\n",
              "      <td>18/10/2016</td>\n",
              "      <td>Standard Class</td>\n",
              "      <td>SO-20335</td>\n",
              "      <td>Sean O'Donnell</td>\n",
              "      <td>Consumer</td>\n",
              "      <td>United States</td>\n",
              "      <td>Fort Lauderdale</td>\n",
              "      <td>Florida</td>\n",
              "      <td>33311.0</td>\n",
              "      <td>South</td>\n",
              "      <td>FUR-TA-10000577</td>\n",
              "      <td>Furniture</td>\n",
              "      <td>Tables</td>\n",
              "      <td>Bretford CR4500 Series Slim Rectangular Table</td>\n",
              "      <td>957.5775</td>\n",
              "    </tr>\n",
              "    <tr>\n",
              "      <th>4</th>\n",
              "      <td>5</td>\n",
              "      <td>US-2016-108966</td>\n",
              "      <td>11/10/2016</td>\n",
              "      <td>18/10/2016</td>\n",
              "      <td>Standard Class</td>\n",
              "      <td>SO-20335</td>\n",
              "      <td>Sean O'Donnell</td>\n",
              "      <td>Consumer</td>\n",
              "      <td>United States</td>\n",
              "      <td>Fort Lauderdale</td>\n",
              "      <td>Florida</td>\n",
              "      <td>33311.0</td>\n",
              "      <td>South</td>\n",
              "      <td>OFF-ST-10000760</td>\n",
              "      <td>Office Supplies</td>\n",
              "      <td>Storage</td>\n",
              "      <td>Eldon Fold 'N Roll Cart System</td>\n",
              "      <td>22.3680</td>\n",
              "    </tr>\n",
              "    <tr>\n",
              "      <th>5</th>\n",
              "      <td>6</td>\n",
              "      <td>CA-2015-115812</td>\n",
              "      <td>09/06/2015</td>\n",
              "      <td>14/06/2015</td>\n",
              "      <td>Standard Class</td>\n",
              "      <td>BH-11710</td>\n",
              "      <td>Brosina Hoffman</td>\n",
              "      <td>Consumer</td>\n",
              "      <td>United States</td>\n",
              "      <td>Los Angeles</td>\n",
              "      <td>California</td>\n",
              "      <td>90032.0</td>\n",
              "      <td>West</td>\n",
              "      <td>FUR-FU-10001487</td>\n",
              "      <td>Furniture</td>\n",
              "      <td>Furnishings</td>\n",
              "      <td>Eldon Expressions Wood and Plastic Desk Access...</td>\n",
              "      <td>48.8600</td>\n",
              "    </tr>\n",
              "    <tr>\n",
              "      <th>6</th>\n",
              "      <td>7</td>\n",
              "      <td>CA-2015-115812</td>\n",
              "      <td>09/06/2015</td>\n",
              "      <td>14/06/2015</td>\n",
              "      <td>Standard Class</td>\n",
              "      <td>BH-11710</td>\n",
              "      <td>Brosina Hoffman</td>\n",
              "      <td>Consumer</td>\n",
              "      <td>United States</td>\n",
              "      <td>Los Angeles</td>\n",
              "      <td>California</td>\n",
              "      <td>90032.0</td>\n",
              "      <td>West</td>\n",
              "      <td>OFF-AR-10002833</td>\n",
              "      <td>Office Supplies</td>\n",
              "      <td>Art</td>\n",
              "      <td>Newell 322</td>\n",
              "      <td>7.2800</td>\n",
              "    </tr>\n",
              "    <tr>\n",
              "      <th>7</th>\n",
              "      <td>8</td>\n",
              "      <td>CA-2015-115812</td>\n",
              "      <td>09/06/2015</td>\n",
              "      <td>14/06/2015</td>\n",
              "      <td>Standard Class</td>\n",
              "      <td>BH-11710</td>\n",
              "      <td>Brosina Hoffman</td>\n",
              "      <td>Consumer</td>\n",
              "      <td>United States</td>\n",
              "      <td>Los Angeles</td>\n",
              "      <td>California</td>\n",
              "      <td>90032.0</td>\n",
              "      <td>West</td>\n",
              "      <td>TEC-PH-10002275</td>\n",
              "      <td>Technology</td>\n",
              "      <td>Phones</td>\n",
              "      <td>Mitel 5320 IP Phone VoIP phone</td>\n",
              "      <td>907.1520</td>\n",
              "    </tr>\n",
              "    <tr>\n",
              "      <th>8</th>\n",
              "      <td>9</td>\n",
              "      <td>CA-2015-115812</td>\n",
              "      <td>09/06/2015</td>\n",
              "      <td>14/06/2015</td>\n",
              "      <td>Standard Class</td>\n",
              "      <td>BH-11710</td>\n",
              "      <td>Brosina Hoffman</td>\n",
              "      <td>Consumer</td>\n",
              "      <td>United States</td>\n",
              "      <td>Los Angeles</td>\n",
              "      <td>California</td>\n",
              "      <td>90032.0</td>\n",
              "      <td>West</td>\n",
              "      <td>OFF-BI-10003910</td>\n",
              "      <td>Office Supplies</td>\n",
              "      <td>Binders</td>\n",
              "      <td>DXL Angle-View Binders with Locking Rings by S...</td>\n",
              "      <td>18.5040</td>\n",
              "    </tr>\n",
              "    <tr>\n",
              "      <th>9</th>\n",
              "      <td>10</td>\n",
              "      <td>CA-2015-115812</td>\n",
              "      <td>09/06/2015</td>\n",
              "      <td>14/06/2015</td>\n",
              "      <td>Standard Class</td>\n",
              "      <td>BH-11710</td>\n",
              "      <td>Brosina Hoffman</td>\n",
              "      <td>Consumer</td>\n",
              "      <td>United States</td>\n",
              "      <td>Los Angeles</td>\n",
              "      <td>California</td>\n",
              "      <td>90032.0</td>\n",
              "      <td>West</td>\n",
              "      <td>OFF-AP-10002892</td>\n",
              "      <td>Office Supplies</td>\n",
              "      <td>Appliances</td>\n",
              "      <td>Belkin F5C206VTEL 6 Outlet Surge</td>\n",
              "      <td>114.9000</td>\n",
              "    </tr>\n",
              "  </tbody>\n",
              "</table>\n",
              "</div>"
            ],
            "text/plain": [
              "   Row ID  ...     Sales\n",
              "0       1  ...  261.9600\n",
              "1       2  ...  731.9400\n",
              "2       3  ...   14.6200\n",
              "3       4  ...  957.5775\n",
              "4       5  ...   22.3680\n",
              "5       6  ...   48.8600\n",
              "6       7  ...    7.2800\n",
              "7       8  ...  907.1520\n",
              "8       9  ...   18.5040\n",
              "9      10  ...  114.9000\n",
              "\n",
              "[10 rows x 18 columns]"
            ]
          },
          "metadata": {},
          "execution_count": 46
        }
      ]
    },
    {
      "cell_type": "markdown",
      "metadata": {
        "id": "NLm9VhY2Iovy"
      },
      "source": [
        "\n",
        "### 1.2 Describe the dataset.\n",
        "\n",
        ">1.2.1. How many observations(rows) and columns are in the dataset?"
      ]
    },
    {
      "cell_type": "code",
      "metadata": {
        "id": "kN08N8Ya2aSi",
        "colab": {
          "base_uri": "https://localhost:8080/"
        },
        "outputId": "8969af26-0400-4977-8b8e-425b783fb64d"
      },
      "source": [
        "# YOUR CODE HERE\n",
        "df.shape"
      ],
      "execution_count": 47,
      "outputs": [
        {
          "output_type": "execute_result",
          "data": {
            "text/plain": [
              "(9800, 18)"
            ]
          },
          "metadata": {},
          "execution_count": 47
        }
      ]
    },
    {
      "cell_type": "markdown",
      "metadata": {
        "id": "W5tB44hXN1_y"
      },
      "source": [
        "> 1.2.2. For which variable(s), if any, are there missing/null values?"
      ]
    },
    {
      "cell_type": "code",
      "metadata": {
        "id": "7QPMt2TP6WVO",
        "colab": {
          "base_uri": "https://localhost:8080/"
        },
        "outputId": "f6e03264-a851-4c9e-f9e3-f29a6b150dfb"
      },
      "source": [
        "# YOUR CODE HERE\n",
        "df.isnull().sum()"
      ],
      "execution_count": 48,
      "outputs": [
        {
          "output_type": "execute_result",
          "data": {
            "text/plain": [
              "Row ID            0\n",
              "Order ID          0\n",
              "Order Date        0\n",
              "Ship Date         0\n",
              "Ship Mode         0\n",
              "Customer ID       0\n",
              "Customer Name     0\n",
              "Segment           0\n",
              "Country           0\n",
              "City              0\n",
              "State             0\n",
              "Postal Code      11\n",
              "Region            0\n",
              "Product ID        0\n",
              "Category          0\n",
              "Sub-Category      0\n",
              "Product Name      0\n",
              "Sales             0\n",
              "dtype: int64"
            ]
          },
          "metadata": {},
          "execution_count": 48
        }
      ]
    },
    {
      "cell_type": "code",
      "metadata": {
        "colab": {
          "base_uri": "https://localhost:8080/",
          "height": 436
        },
        "id": "sfgk1oGZIWj0",
        "outputId": "00c31cc4-e49e-4cee-f54c-3b6a2b09ae87"
      },
      "source": [
        "df.isna()"
      ],
      "execution_count": 49,
      "outputs": [
        {
          "output_type": "execute_result",
          "data": {
            "text/html": [
              "<div>\n",
              "<style scoped>\n",
              "    .dataframe tbody tr th:only-of-type {\n",
              "        vertical-align: middle;\n",
              "    }\n",
              "\n",
              "    .dataframe tbody tr th {\n",
              "        vertical-align: top;\n",
              "    }\n",
              "\n",
              "    .dataframe thead th {\n",
              "        text-align: right;\n",
              "    }\n",
              "</style>\n",
              "<table border=\"1\" class=\"dataframe\">\n",
              "  <thead>\n",
              "    <tr style=\"text-align: right;\">\n",
              "      <th></th>\n",
              "      <th>Row ID</th>\n",
              "      <th>Order ID</th>\n",
              "      <th>Order Date</th>\n",
              "      <th>Ship Date</th>\n",
              "      <th>Ship Mode</th>\n",
              "      <th>Customer ID</th>\n",
              "      <th>Customer Name</th>\n",
              "      <th>Segment</th>\n",
              "      <th>Country</th>\n",
              "      <th>City</th>\n",
              "      <th>State</th>\n",
              "      <th>Postal Code</th>\n",
              "      <th>Region</th>\n",
              "      <th>Product ID</th>\n",
              "      <th>Category</th>\n",
              "      <th>Sub-Category</th>\n",
              "      <th>Product Name</th>\n",
              "      <th>Sales</th>\n",
              "    </tr>\n",
              "  </thead>\n",
              "  <tbody>\n",
              "    <tr>\n",
              "      <th>0</th>\n",
              "      <td>False</td>\n",
              "      <td>False</td>\n",
              "      <td>False</td>\n",
              "      <td>False</td>\n",
              "      <td>False</td>\n",
              "      <td>False</td>\n",
              "      <td>False</td>\n",
              "      <td>False</td>\n",
              "      <td>False</td>\n",
              "      <td>False</td>\n",
              "      <td>False</td>\n",
              "      <td>False</td>\n",
              "      <td>False</td>\n",
              "      <td>False</td>\n",
              "      <td>False</td>\n",
              "      <td>False</td>\n",
              "      <td>False</td>\n",
              "      <td>False</td>\n",
              "    </tr>\n",
              "    <tr>\n",
              "      <th>1</th>\n",
              "      <td>False</td>\n",
              "      <td>False</td>\n",
              "      <td>False</td>\n",
              "      <td>False</td>\n",
              "      <td>False</td>\n",
              "      <td>False</td>\n",
              "      <td>False</td>\n",
              "      <td>False</td>\n",
              "      <td>False</td>\n",
              "      <td>False</td>\n",
              "      <td>False</td>\n",
              "      <td>False</td>\n",
              "      <td>False</td>\n",
              "      <td>False</td>\n",
              "      <td>False</td>\n",
              "      <td>False</td>\n",
              "      <td>False</td>\n",
              "      <td>False</td>\n",
              "    </tr>\n",
              "    <tr>\n",
              "      <th>2</th>\n",
              "      <td>False</td>\n",
              "      <td>False</td>\n",
              "      <td>False</td>\n",
              "      <td>False</td>\n",
              "      <td>False</td>\n",
              "      <td>False</td>\n",
              "      <td>False</td>\n",
              "      <td>False</td>\n",
              "      <td>False</td>\n",
              "      <td>False</td>\n",
              "      <td>False</td>\n",
              "      <td>False</td>\n",
              "      <td>False</td>\n",
              "      <td>False</td>\n",
              "      <td>False</td>\n",
              "      <td>False</td>\n",
              "      <td>False</td>\n",
              "      <td>False</td>\n",
              "    </tr>\n",
              "    <tr>\n",
              "      <th>3</th>\n",
              "      <td>False</td>\n",
              "      <td>False</td>\n",
              "      <td>False</td>\n",
              "      <td>False</td>\n",
              "      <td>False</td>\n",
              "      <td>False</td>\n",
              "      <td>False</td>\n",
              "      <td>False</td>\n",
              "      <td>False</td>\n",
              "      <td>False</td>\n",
              "      <td>False</td>\n",
              "      <td>False</td>\n",
              "      <td>False</td>\n",
              "      <td>False</td>\n",
              "      <td>False</td>\n",
              "      <td>False</td>\n",
              "      <td>False</td>\n",
              "      <td>False</td>\n",
              "    </tr>\n",
              "    <tr>\n",
              "      <th>4</th>\n",
              "      <td>False</td>\n",
              "      <td>False</td>\n",
              "      <td>False</td>\n",
              "      <td>False</td>\n",
              "      <td>False</td>\n",
              "      <td>False</td>\n",
              "      <td>False</td>\n",
              "      <td>False</td>\n",
              "      <td>False</td>\n",
              "      <td>False</td>\n",
              "      <td>False</td>\n",
              "      <td>False</td>\n",
              "      <td>False</td>\n",
              "      <td>False</td>\n",
              "      <td>False</td>\n",
              "      <td>False</td>\n",
              "      <td>False</td>\n",
              "      <td>False</td>\n",
              "    </tr>\n",
              "    <tr>\n",
              "      <th>...</th>\n",
              "      <td>...</td>\n",
              "      <td>...</td>\n",
              "      <td>...</td>\n",
              "      <td>...</td>\n",
              "      <td>...</td>\n",
              "      <td>...</td>\n",
              "      <td>...</td>\n",
              "      <td>...</td>\n",
              "      <td>...</td>\n",
              "      <td>...</td>\n",
              "      <td>...</td>\n",
              "      <td>...</td>\n",
              "      <td>...</td>\n",
              "      <td>...</td>\n",
              "      <td>...</td>\n",
              "      <td>...</td>\n",
              "      <td>...</td>\n",
              "      <td>...</td>\n",
              "    </tr>\n",
              "    <tr>\n",
              "      <th>9795</th>\n",
              "      <td>False</td>\n",
              "      <td>False</td>\n",
              "      <td>False</td>\n",
              "      <td>False</td>\n",
              "      <td>False</td>\n",
              "      <td>False</td>\n",
              "      <td>False</td>\n",
              "      <td>False</td>\n",
              "      <td>False</td>\n",
              "      <td>False</td>\n",
              "      <td>False</td>\n",
              "      <td>False</td>\n",
              "      <td>False</td>\n",
              "      <td>False</td>\n",
              "      <td>False</td>\n",
              "      <td>False</td>\n",
              "      <td>False</td>\n",
              "      <td>False</td>\n",
              "    </tr>\n",
              "    <tr>\n",
              "      <th>9796</th>\n",
              "      <td>False</td>\n",
              "      <td>False</td>\n",
              "      <td>False</td>\n",
              "      <td>False</td>\n",
              "      <td>False</td>\n",
              "      <td>False</td>\n",
              "      <td>False</td>\n",
              "      <td>False</td>\n",
              "      <td>False</td>\n",
              "      <td>False</td>\n",
              "      <td>False</td>\n",
              "      <td>False</td>\n",
              "      <td>False</td>\n",
              "      <td>False</td>\n",
              "      <td>False</td>\n",
              "      <td>False</td>\n",
              "      <td>False</td>\n",
              "      <td>False</td>\n",
              "    </tr>\n",
              "    <tr>\n",
              "      <th>9797</th>\n",
              "      <td>False</td>\n",
              "      <td>False</td>\n",
              "      <td>False</td>\n",
              "      <td>False</td>\n",
              "      <td>False</td>\n",
              "      <td>False</td>\n",
              "      <td>False</td>\n",
              "      <td>False</td>\n",
              "      <td>False</td>\n",
              "      <td>False</td>\n",
              "      <td>False</td>\n",
              "      <td>False</td>\n",
              "      <td>False</td>\n",
              "      <td>False</td>\n",
              "      <td>False</td>\n",
              "      <td>False</td>\n",
              "      <td>False</td>\n",
              "      <td>False</td>\n",
              "    </tr>\n",
              "    <tr>\n",
              "      <th>9798</th>\n",
              "      <td>False</td>\n",
              "      <td>False</td>\n",
              "      <td>False</td>\n",
              "      <td>False</td>\n",
              "      <td>False</td>\n",
              "      <td>False</td>\n",
              "      <td>False</td>\n",
              "      <td>False</td>\n",
              "      <td>False</td>\n",
              "      <td>False</td>\n",
              "      <td>False</td>\n",
              "      <td>False</td>\n",
              "      <td>False</td>\n",
              "      <td>False</td>\n",
              "      <td>False</td>\n",
              "      <td>False</td>\n",
              "      <td>False</td>\n",
              "      <td>False</td>\n",
              "    </tr>\n",
              "    <tr>\n",
              "      <th>9799</th>\n",
              "      <td>False</td>\n",
              "      <td>False</td>\n",
              "      <td>False</td>\n",
              "      <td>False</td>\n",
              "      <td>False</td>\n",
              "      <td>False</td>\n",
              "      <td>False</td>\n",
              "      <td>False</td>\n",
              "      <td>False</td>\n",
              "      <td>False</td>\n",
              "      <td>False</td>\n",
              "      <td>False</td>\n",
              "      <td>False</td>\n",
              "      <td>False</td>\n",
              "      <td>False</td>\n",
              "      <td>False</td>\n",
              "      <td>False</td>\n",
              "      <td>False</td>\n",
              "    </tr>\n",
              "  </tbody>\n",
              "</table>\n",
              "<p>9800 rows × 18 columns</p>\n",
              "</div>"
            ],
            "text/plain": [
              "      Row ID  Order ID  Order Date  ...  Sub-Category  Product Name  Sales\n",
              "0      False     False       False  ...         False         False  False\n",
              "1      False     False       False  ...         False         False  False\n",
              "2      False     False       False  ...         False         False  False\n",
              "3      False     False       False  ...         False         False  False\n",
              "4      False     False       False  ...         False         False  False\n",
              "...      ...       ...         ...  ...           ...           ...    ...\n",
              "9795   False     False       False  ...         False         False  False\n",
              "9796   False     False       False  ...         False         False  False\n",
              "9797   False     False       False  ...         False         False  False\n",
              "9798   False     False       False  ...         False         False  False\n",
              "9799   False     False       False  ...         False         False  False\n",
              "\n",
              "[9800 rows x 18 columns]"
            ]
          },
          "metadata": {},
          "execution_count": 49
        }
      ]
    },
    {
      "cell_type": "markdown",
      "metadata": {
        "id": "0mgVMc3wMsD6"
      },
      "source": [
        ">1.2.3. Which state generated the highest demand by *number* of items ordered over the entire period?"
      ]
    },
    {
      "cell_type": "code",
      "metadata": {
        "id": "b2rw5EHkMfWR",
        "colab": {
          "base_uri": "https://localhost:8080/",
          "height": 80
        },
        "outputId": "2f5dbc27-48c6-4a37-c208-ad4acdfe088d"
      },
      "source": [
        "# YOUR CODE HERE\n",
        "df2=df.groupby(\"State\", as_index=False)[\"Row ID\"].count()\n",
        "df2.head(5)\n",
        "df2[df2['Row ID']==df2['Row ID'].max()]"
      ],
      "execution_count": 50,
      "outputs": [
        {
          "output_type": "execute_result",
          "data": {
            "text/html": [
              "<div>\n",
              "<style scoped>\n",
              "    .dataframe tbody tr th:only-of-type {\n",
              "        vertical-align: middle;\n",
              "    }\n",
              "\n",
              "    .dataframe tbody tr th {\n",
              "        vertical-align: top;\n",
              "    }\n",
              "\n",
              "    .dataframe thead th {\n",
              "        text-align: right;\n",
              "    }\n",
              "</style>\n",
              "<table border=\"1\" class=\"dataframe\">\n",
              "  <thead>\n",
              "    <tr style=\"text-align: right;\">\n",
              "      <th></th>\n",
              "      <th>State</th>\n",
              "      <th>Row ID</th>\n",
              "    </tr>\n",
              "  </thead>\n",
              "  <tbody>\n",
              "    <tr>\n",
              "      <th>3</th>\n",
              "      <td>California</td>\n",
              "      <td>1946</td>\n",
              "    </tr>\n",
              "  </tbody>\n",
              "</table>\n",
              "</div>"
            ],
            "text/plain": [
              "        State  Row ID\n",
              "3  California    1946"
            ]
          },
          "metadata": {},
          "execution_count": 50
        }
      ]
    },
    {
      "cell_type": "markdown",
      "metadata": {
        "id": "og7Oq593QMu-"
      },
      "source": [
        ">... and which state generated the highest demand by total (aggregated) sales over the entire period?"
      ]
    },
    {
      "cell_type": "code",
      "metadata": {
        "id": "86In9TV1OeyM",
        "colab": {
          "base_uri": "https://localhost:8080/",
          "height": 80
        },
        "outputId": "33b14dff-5b65-48b8-e882-4f57ebf6baad"
      },
      "source": [
        "# YOUR CODE HERE\n",
        "df3=df.groupby(\"State\", as_index=False)[\"Sales\"].sum()\n",
        "df3.head(49)\n",
        "df3[df3['Sales']==df3['Sales'].max()]"
      ],
      "execution_count": 51,
      "outputs": [
        {
          "output_type": "execute_result",
          "data": {
            "text/html": [
              "<div>\n",
              "<style scoped>\n",
              "    .dataframe tbody tr th:only-of-type {\n",
              "        vertical-align: middle;\n",
              "    }\n",
              "\n",
              "    .dataframe tbody tr th {\n",
              "        vertical-align: top;\n",
              "    }\n",
              "\n",
              "    .dataframe thead th {\n",
              "        text-align: right;\n",
              "    }\n",
              "</style>\n",
              "<table border=\"1\" class=\"dataframe\">\n",
              "  <thead>\n",
              "    <tr style=\"text-align: right;\">\n",
              "      <th></th>\n",
              "      <th>State</th>\n",
              "      <th>Sales</th>\n",
              "    </tr>\n",
              "  </thead>\n",
              "  <tbody>\n",
              "    <tr>\n",
              "      <th>3</th>\n",
              "      <td>California</td>\n",
              "      <td>446306.4635</td>\n",
              "    </tr>\n",
              "  </tbody>\n",
              "</table>\n",
              "</div>"
            ],
            "text/plain": [
              "        State        Sales\n",
              "3  California  446306.4635"
            ]
          },
          "metadata": {},
          "execution_count": 51
        }
      ]
    },
    {
      "cell_type": "markdown",
      "metadata": {
        "id": "fv-MIcT9Pc54"
      },
      "source": [
        ">1.2.4. What percentage of technology items (Hint: look at Category) were shipped first class (Hint: look at Ship Mode)?"
      ]
    },
    {
      "cell_type": "code",
      "metadata": {
        "id": "qzGiVprdQakd",
        "colab": {
          "base_uri": "https://localhost:8080/"
        },
        "outputId": "c565e02e-065e-4f01-f93a-7e6451b98215"
      },
      "source": [
        "# YOUR CODE HERE\n",
        "dfCat=df.loc[df[\"Category\"]==\"Technology\"]\n",
        "dfNbRow=df.shape[0]\n",
        "dfCatNbRow=dfCat.shape[0]\n",
        "print(dfCatNbRow/dfNbRow * 100 , \"%\")"
      ],
      "execution_count": 52,
      "outputs": [
        {
          "output_type": "stream",
          "name": "stdout",
          "text": [
            "18.5 %\n"
          ]
        }
      ]
    },
    {
      "cell_type": "markdown",
      "metadata": {
        "id": "sfpjod4BRykk"
      },
      "source": [
        "### 1.3. Data types and handling missing values\n",
        "\n",
        ">1.3.1. List the different features and their data type. ¶\n"
      ]
    },
    {
      "cell_type": "code",
      "metadata": {
        "id": "fE5mx0PvV_3q",
        "colab": {
          "base_uri": "https://localhost:8080/"
        },
        "outputId": "81c6cfd3-b826-440d-d8d1-cf496d2a4642"
      },
      "source": [
        "# YOUR CODE HERE\n",
        "df.info()"
      ],
      "execution_count": 53,
      "outputs": [
        {
          "output_type": "stream",
          "name": "stdout",
          "text": [
            "<class 'pandas.core.frame.DataFrame'>\n",
            "RangeIndex: 9800 entries, 0 to 9799\n",
            "Data columns (total 18 columns):\n",
            " #   Column         Non-Null Count  Dtype  \n",
            "---  ------         --------------  -----  \n",
            " 0   Row ID         9800 non-null   int64  \n",
            " 1   Order ID       9800 non-null   object \n",
            " 2   Order Date     9800 non-null   object \n",
            " 3   Ship Date      9800 non-null   object \n",
            " 4   Ship Mode      9800 non-null   object \n",
            " 5   Customer ID    9800 non-null   object \n",
            " 6   Customer Name  9800 non-null   object \n",
            " 7   Segment        9800 non-null   object \n",
            " 8   Country        9800 non-null   object \n",
            " 9   City           9800 non-null   object \n",
            " 10  State          9800 non-null   object \n",
            " 11  Postal Code    9789 non-null   float64\n",
            " 12  Region         9800 non-null   object \n",
            " 13  Product ID     9800 non-null   object \n",
            " 14  Category       9800 non-null   object \n",
            " 15  Sub-Category   9800 non-null   object \n",
            " 16  Product Name   9800 non-null   object \n",
            " 17  Sales          9800 non-null   float64\n",
            "dtypes: float64(2), int64(1), object(15)\n",
            "memory usage: 1.3+ MB\n"
          ]
        }
      ]
    },
    {
      "cell_type": "markdown",
      "metadata": {
        "id": "AfrXUll-dhki"
      },
      "source": [
        ">1.3.2. Are there any duplicated entries?"
      ]
    },
    {
      "cell_type": "code",
      "metadata": {
        "id": "khexK-jZdTqq",
        "colab": {
          "base_uri": "https://localhost:8080/"
        },
        "outputId": "ffd98788-fbd3-48c1-f856-b9e6e8280eb4"
      },
      "source": [
        "# YOUR CODE HERE\n",
        "df.duplicated()"
      ],
      "execution_count": 54,
      "outputs": [
        {
          "output_type": "execute_result",
          "data": {
            "text/plain": [
              "0       False\n",
              "1       False\n",
              "2       False\n",
              "3       False\n",
              "4       False\n",
              "        ...  \n",
              "9795    False\n",
              "9796    False\n",
              "9797    False\n",
              "9798    False\n",
              "9799    False\n",
              "Length: 9800, dtype: bool"
            ]
          },
          "metadata": {},
          "execution_count": 54
        }
      ]
    },
    {
      "cell_type": "code",
      "metadata": {
        "colab": {
          "base_uri": "https://localhost:8080/",
          "height": 66
        },
        "id": "FWVTE2KDInoD",
        "outputId": "d84a461f-cbb6-4723-bbbd-75a5e9b82940"
      },
      "source": [
        "df.loc[df.duplicated()=='True', :]"
      ],
      "execution_count": 55,
      "outputs": [
        {
          "output_type": "execute_result",
          "data": {
            "text/html": [
              "<div>\n",
              "<style scoped>\n",
              "    .dataframe tbody tr th:only-of-type {\n",
              "        vertical-align: middle;\n",
              "    }\n",
              "\n",
              "    .dataframe tbody tr th {\n",
              "        vertical-align: top;\n",
              "    }\n",
              "\n",
              "    .dataframe thead th {\n",
              "        text-align: right;\n",
              "    }\n",
              "</style>\n",
              "<table border=\"1\" class=\"dataframe\">\n",
              "  <thead>\n",
              "    <tr style=\"text-align: right;\">\n",
              "      <th></th>\n",
              "      <th>Row ID</th>\n",
              "      <th>Order ID</th>\n",
              "      <th>Order Date</th>\n",
              "      <th>Ship Date</th>\n",
              "      <th>Ship Mode</th>\n",
              "      <th>Customer ID</th>\n",
              "      <th>Customer Name</th>\n",
              "      <th>Segment</th>\n",
              "      <th>Country</th>\n",
              "      <th>City</th>\n",
              "      <th>State</th>\n",
              "      <th>Postal Code</th>\n",
              "      <th>Region</th>\n",
              "      <th>Product ID</th>\n",
              "      <th>Category</th>\n",
              "      <th>Sub-Category</th>\n",
              "      <th>Product Name</th>\n",
              "      <th>Sales</th>\n",
              "    </tr>\n",
              "  </thead>\n",
              "  <tbody>\n",
              "  </tbody>\n",
              "</table>\n",
              "</div>"
            ],
            "text/plain": [
              "Empty DataFrame\n",
              "Columns: [Row ID, Order ID, Order Date, Ship Date, Ship Mode, Customer ID, Customer Name, Segment, Country, City, State, Postal Code, Region, Product ID, Category, Sub-Category, Product Name, Sales]\n",
              "Index: []"
            ]
          },
          "metadata": {},
          "execution_count": 55
        }
      ]
    },
    {
      "cell_type": "markdown",
      "metadata": {
        "id": "IepEsmf4JFZz"
      },
      "source": [
        ">1.3.3. Change the data type for the following columns: Order Date, Ship Date (from string to datetime), Ship Mode and Segment, from string to category. "
      ]
    },
    {
      "cell_type": "code",
      "metadata": {
        "id": "6MHWijlkeCfy",
        "colab": {
          "base_uri": "https://localhost:8080/"
        },
        "outputId": "c375b658-b4a3-4c33-c72f-b4be66c07782"
      },
      "source": [
        "# YOUR CODE HERE\n",
        "df[\"Order Date\"]  = pd.to_datetime(df[\"Order Date\"], dayfirst=True)\n",
        "df[\"Ship Date\"]  = pd.to_datetime(df[\"Ship Date\"], dayfirst=True)\n",
        "for col in ['Ship Mode', 'Segment']:\n",
        "   df[col] = df[col].astype('category')\n",
        "df.dtypes"
      ],
      "execution_count": 58,
      "outputs": [
        {
          "output_type": "execute_result",
          "data": {
            "text/plain": [
              "Row ID                    int64\n",
              "Order ID                 object\n",
              "Order Date       datetime64[ns]\n",
              "Ship Date        datetime64[ns]\n",
              "Ship Mode              category\n",
              "Customer ID              object\n",
              "Customer Name            object\n",
              "Segment                category\n",
              "Country                  object\n",
              "City                     object\n",
              "State                    object\n",
              "Postal Code             float64\n",
              "Region                   object\n",
              "Product ID               object\n",
              "Category                 object\n",
              "Sub-Category             object\n",
              "Product Name             object\n",
              "Sales                   float64\n",
              "dtype: object"
            ]
          },
          "metadata": {},
          "execution_count": 58
        }
      ]
    },
    {
      "cell_type": "markdown",
      "metadata": {
        "id": "H_X2BzEOVH_Q"
      },
      "source": [
        ">1.3.4. For which order period have these data samples been collected? (i.e, the oldest and the most recent order dates in the dataset)"
      ]
    },
    {
      "cell_type": "code",
      "metadata": {
        "id": "aPBLyrx9MGqz",
        "colab": {
          "base_uri": "https://localhost:8080/"
        },
        "outputId": "95067f2c-613b-49e7-aec1-9f650c8e1633"
      },
      "source": [
        "# YOUR CODE HERE\n",
        "print(df['Order Date'].min(), df['Order Date'].max())"
      ],
      "execution_count": 59,
      "outputs": [
        {
          "output_type": "stream",
          "name": "stdout",
          "text": [
            "2015-01-03 00:00:00 2018-12-30 00:00:00\n"
          ]
        }
      ]
    },
    {
      "cell_type": "markdown",
      "metadata": {
        "id": "C1s2NgO3Unv8"
      },
      "source": [
        ">1.3.5. For the postal code column, drop the missing values and set the data type to an integer and then to a string (make sure the final format of the ZIP code is of this kind: 42420 and not 42420.0).\n"
      ]
    },
    {
      "cell_type": "code",
      "metadata": {
        "id": "QbnduUdgU7Ss",
        "colab": {
          "base_uri": "https://localhost:8080/"
        },
        "outputId": "43917b37-533b-4e9f-ac1c-c876182f37c3"
      },
      "source": [
        "# YOUR CODE HERE\n",
        "df.dropna(axis=0, inplace=True)\n",
        "for col in ['Postal Code']:\n",
        "   df[col] = df[col].astype('int64')\n",
        "for col in ['Postal Code']:\n",
        "   df[col] = df[col].astype('string')\n",
        "df[\"Postal Code\"].head()"
      ],
      "execution_count": 97,
      "outputs": [
        {
          "output_type": "execute_result",
          "data": {
            "text/plain": [
              "0    42420\n",
              "1    42420\n",
              "2    90036\n",
              "3    33311\n",
              "4    33311\n",
              "Name: Postal Code, dtype: string"
            ]
          },
          "metadata": {},
          "execution_count": 97
        }
      ]
    },
    {
      "cell_type": "markdown",
      "metadata": {
        "id": "H-NvGlwviKQ_"
      },
      "source": [
        "\n",
        "## 2. Exploratory Data Analysis and Visualization"
      ]
    },
    {
      "cell_type": "markdown",
      "metadata": {
        "id": "Bdwn8aIoggyt"
      },
      "source": [
        ">2.1 Which are the top 5 dates on which the store reached the highest *value* of sales over the entire period included in the dataset?"
      ]
    },
    {
      "cell_type": "code",
      "metadata": {
        "id": "FlVkgZUKfuPe",
        "colab": {
          "base_uri": "https://localhost:8080/",
          "height": 80
        },
        "outputId": "097870ed-9a22-4573-dfdd-509cf585f49d"
      },
      "source": [
        "# YOUR CODE HERE\n",
        "df4=df.groupby(\"Order Date\", as_index=False)[\"Sales\"].sum()\n",
        "df4[df4['Sales']==df4['Sales'].max()]\n",
        "\n"
      ],
      "execution_count": 123,
      "outputs": [
        {
          "output_type": "execute_result",
          "data": {
            "text/html": [
              "<div>\n",
              "<style scoped>\n",
              "    .dataframe tbody tr th:only-of-type {\n",
              "        vertical-align: middle;\n",
              "    }\n",
              "\n",
              "    .dataframe tbody tr th {\n",
              "        vertical-align: top;\n",
              "    }\n",
              "\n",
              "    .dataframe thead th {\n",
              "        text-align: right;\n",
              "    }\n",
              "</style>\n",
              "<table border=\"1\" class=\"dataframe\">\n",
              "  <thead>\n",
              "    <tr style=\"text-align: right;\">\n",
              "      <th></th>\n",
              "      <th>Order Date</th>\n",
              "      <th>Sales</th>\n",
              "    </tr>\n",
              "  </thead>\n",
              "  <tbody>\n",
              "    <tr>\n",
              "      <th>53</th>\n",
              "      <td>2015-03-18</td>\n",
              "      <td>28106.716</td>\n",
              "    </tr>\n",
              "  </tbody>\n",
              "</table>\n",
              "</div>"
            ],
            "text/plain": [
              "   Order Date      Sales\n",
              "53 2015-03-18  28106.716"
            ]
          },
          "metadata": {},
          "execution_count": 123
        }
      ]
    },
    {
      "cell_type": "markdown",
      "metadata": {
        "id": "AeyF9LSpidyP"
      },
      "source": [
        ">2.2 How many unique customers did the shop have over this period?"
      ]
    },
    {
      "cell_type": "code",
      "metadata": {
        "id": "35gdkeJfkj59",
        "colab": {
          "base_uri": "https://localhost:8080/"
        },
        "outputId": "64d118de-2d3c-4852-8975-64f266b81f68"
      },
      "source": [
        "# YOUR CODE HERE\n",
        "df5=df.groupby(\"Customer Name\", as_index=False)[\"Row ID\"].count()\n",
        "df5.count()\n"
      ],
      "execution_count": 121,
      "outputs": [
        {
          "output_type": "execute_result",
          "data": {
            "text/plain": [
              "Customer Name    793\n",
              "Row ID           793\n",
              "dtype: int64"
            ]
          },
          "metadata": {},
          "execution_count": 121
        }
      ]
    },
    {
      "cell_type": "markdown",
      "metadata": {
        "id": "xTKAqb33QHYP"
      },
      "source": [
        ">...Plot the top ten customers by total value of their orders in a horizontal bar chart."
      ]
    },
    {
      "cell_type": "code",
      "metadata": {
        "id": "7fwCxScMi8Bm",
        "colab": {
          "base_uri": "https://localhost:8080/",
          "height": 204
        },
        "outputId": "9ccc1672-25d5-4fc2-84d2-614cc20d9bed"
      },
      "source": [
        "# YOUR CODE HERE\n",
        "df6 = df.groupby(\"Customer Name\", as_index=False)[\"Sales\"].sum()\n",
        "df10 = df6.sort_values(by='Sales', ascending=False)\n",
        "dfTop10 = df10.head(10)\n",
        "dfTop10.head()"
      ],
      "execution_count": 154,
      "outputs": [
        {
          "output_type": "execute_result",
          "data": {
            "text/html": [
              "<div>\n",
              "<style scoped>\n",
              "    .dataframe tbody tr th:only-of-type {\n",
              "        vertical-align: middle;\n",
              "    }\n",
              "\n",
              "    .dataframe tbody tr th {\n",
              "        vertical-align: top;\n",
              "    }\n",
              "\n",
              "    .dataframe thead th {\n",
              "        text-align: right;\n",
              "    }\n",
              "</style>\n",
              "<table border=\"1\" class=\"dataframe\">\n",
              "  <thead>\n",
              "    <tr style=\"text-align: right;\">\n",
              "      <th></th>\n",
              "      <th>Customer Name</th>\n",
              "      <th>Sales</th>\n",
              "    </tr>\n",
              "  </thead>\n",
              "  <tbody>\n",
              "    <tr>\n",
              "      <th>686</th>\n",
              "      <td>Sean Miller</td>\n",
              "      <td>25043.050</td>\n",
              "    </tr>\n",
              "    <tr>\n",
              "      <th>730</th>\n",
              "      <td>Tamara Chand</td>\n",
              "      <td>19052.218</td>\n",
              "    </tr>\n",
              "    <tr>\n",
              "      <th>622</th>\n",
              "      <td>Raymond Buch</td>\n",
              "      <td>15117.339</td>\n",
              "    </tr>\n",
              "    <tr>\n",
              "      <th>757</th>\n",
              "      <td>Tom Ashbrook</td>\n",
              "      <td>14595.620</td>\n",
              "    </tr>\n",
              "    <tr>\n",
              "      <th>6</th>\n",
              "      <td>Adrian Barton</td>\n",
              "      <td>14473.571</td>\n",
              "    </tr>\n",
              "  </tbody>\n",
              "</table>\n",
              "</div>"
            ],
            "text/plain": [
              "     Customer Name      Sales\n",
              "686    Sean Miller  25043.050\n",
              "730   Tamara Chand  19052.218\n",
              "622   Raymond Buch  15117.339\n",
              "757   Tom Ashbrook  14595.620\n",
              "6    Adrian Barton  14473.571"
            ]
          },
          "metadata": {},
          "execution_count": 154
        }
      ]
    },
    {
      "cell_type": "code",
      "metadata": {
        "colab": {
          "base_uri": "https://localhost:8080/",
          "height": 369
        },
        "id": "AWoPmxsue3qe",
        "outputId": "c0978365-8749-4b09-a838-db1ebe05d14f"
      },
      "source": [
        "dfTop10['Customer Name'].value_counts().plot(kind='bar')"
      ],
      "execution_count": 156,
      "outputs": [
        {
          "output_type": "execute_result",
          "data": {
            "text/plain": [
              "<matplotlib.axes._subplots.AxesSubplot at 0x7fdad3f3ae10>"
            ]
          },
          "metadata": {},
          "execution_count": 156
        },
        {
          "output_type": "display_data",
          "data": {
            "image/png": "[encoded data removed]",
            "text/plain": [
              "<Figure size 432x288 with 1 Axes>"
            ]
          },
          "metadata": {}
        }
      ]
    },
    {
      "cell_type": "markdown",
      "metadata": {
        "id": "9xJh796GqhJ-"
      },
      "source": [
        ">2.3. What are the most frequently bought product sub-categories ? \n",
        ">\n",
        "> Hint: look at sub-category and count the times they appear in the dataset."
      ]
    },
    {
      "cell_type": "code",
      "metadata": {
        "id": "pd5YfUGDqllc",
        "colab": {
          "base_uri": "https://localhost:8080/",
          "height": 80
        },
        "outputId": "fc37a53e-db08-44af-841c-be3d3578d034"
      },
      "source": [
        "# YOUR CODE HERE\n",
        "dfSubCat = df.groupby(\"Sub-Category\", as_index=False)[\"Row ID\"].count()\n",
        "dfSubCat[dfSubCat['Row ID']==dfSubCat['Row ID'].max()]"
      ],
      "execution_count": 168,
      "outputs": [
        {
          "output_type": "execute_result",
          "data": {
            "text/html": [
              "<div>\n",
              "<style scoped>\n",
              "    .dataframe tbody tr th:only-of-type {\n",
              "        vertical-align: middle;\n",
              "    }\n",
              "\n",
              "    .dataframe tbody tr th {\n",
              "        vertical-align: top;\n",
              "    }\n",
              "\n",
              "    .dataframe thead th {\n",
              "        text-align: right;\n",
              "    }\n",
              "</style>\n",
              "<table border=\"1\" class=\"dataframe\">\n",
              "  <thead>\n",
              "    <tr style=\"text-align: right;\">\n",
              "      <th></th>\n",
              "      <th>Sub-Category</th>\n",
              "      <th>Row ID</th>\n",
              "    </tr>\n",
              "  </thead>\n",
              "  <tbody>\n",
              "    <tr>\n",
              "      <th>3</th>\n",
              "      <td>Binders</td>\n",
              "      <td>1492</td>\n",
              "    </tr>\n",
              "  </tbody>\n",
              "</table>\n",
              "</div>"
            ],
            "text/plain": [
              "  Sub-Category  Row ID\n",
              "3      Binders    1492"
            ]
          },
          "metadata": {},
          "execution_count": 168
        }
      ]
    },
    {
      "cell_type": "markdown",
      "metadata": {
        "id": "jrNQ6Gq4Qiv2"
      },
      "source": [
        ">...What are the product sub-categories that generated the highest value of sales over the entire period?\n",
        ">\n",
        "> Hint: aggregate sales by sub-category."
      ]
    },
    {
      "cell_type": "code",
      "metadata": {
        "id": "0GPqlCLxVDBH",
        "colab": {
          "base_uri": "https://localhost:8080/",
          "height": 80
        },
        "outputId": "495b9aa2-8fb7-47b4-c1b3-8018b2923a6b"
      },
      "source": [
        "# YOUR CODE HERE\n",
        "dfSubCat1=df.groupby(\"Sub-Category\", as_index=False)[\"Sales\"].sum()\n",
        "dfSubCat1[dfSubCat1['Sales']==dfSubCat1['Sales'].max()]\n"
      ],
      "execution_count": 171,
      "outputs": [
        {
          "output_type": "execute_result",
          "data": {
            "text/html": [
              "<div>\n",
              "<style scoped>\n",
              "    .dataframe tbody tr th:only-of-type {\n",
              "        vertical-align: middle;\n",
              "    }\n",
              "\n",
              "    .dataframe tbody tr th {\n",
              "        vertical-align: top;\n",
              "    }\n",
              "\n",
              "    .dataframe thead th {\n",
              "        text-align: right;\n",
              "    }\n",
              "</style>\n",
              "<table border=\"1\" class=\"dataframe\">\n",
              "  <thead>\n",
              "    <tr style=\"text-align: right;\">\n",
              "      <th></th>\n",
              "      <th>Sub-Category</th>\n",
              "      <th>Sales</th>\n",
              "    </tr>\n",
              "  </thead>\n",
              "  <tbody>\n",
              "    <tr>\n",
              "      <th>13</th>\n",
              "      <td>Phones</td>\n",
              "      <td>326487.698</td>\n",
              "    </tr>\n",
              "  </tbody>\n",
              "</table>\n",
              "</div>"
            ],
            "text/plain": [
              "   Sub-Category       Sales\n",
              "13       Phones  326487.698"
            ]
          },
          "metadata": {},
          "execution_count": 171
        }
      ]
    },
    {
      "cell_type": "markdown",
      "metadata": {
        "id": "0ZzouGeaRZ7z"
      },
      "source": [
        ">...What was the average purchase price of a phone sold by the store?"
      ]
    },
    {
      "cell_type": "code",
      "metadata": {
        "id": "76tjDZlzTfMe",
        "colab": {
          "base_uri": "https://localhost:8080/",
          "height": 576
        },
        "outputId": "ebc84c59-b559-4583-c20e-f5347d583a77"
      },
      "source": [
        "# YOUR CODE HERE\n",
        "dfSubCat2=df.groupby(\"Sub-Category\", as_index=False)[\"Row ID\"].count()\n",
        "dfSubCat2\n"
      ],
      "execution_count": 214,
      "outputs": [
        {
          "output_type": "execute_result",
          "data": {
            "text/html": [
              "<div>\n",
              "<style scoped>\n",
              "    .dataframe tbody tr th:only-of-type {\n",
              "        vertical-align: middle;\n",
              "    }\n",
              "\n",
              "    .dataframe tbody tr th {\n",
              "        vertical-align: top;\n",
              "    }\n",
              "\n",
              "    .dataframe thead th {\n",
              "        text-align: right;\n",
              "    }\n",
              "</style>\n",
              "<table border=\"1\" class=\"dataframe\">\n",
              "  <thead>\n",
              "    <tr style=\"text-align: right;\">\n",
              "      <th></th>\n",
              "      <th>Sub-Category</th>\n",
              "      <th>Row ID</th>\n",
              "    </tr>\n",
              "  </thead>\n",
              "  <tbody>\n",
              "    <tr>\n",
              "      <th>0</th>\n",
              "      <td>Accessories</td>\n",
              "      <td>754</td>\n",
              "    </tr>\n",
              "    <tr>\n",
              "      <th>1</th>\n",
              "      <td>Appliances</td>\n",
              "      <td>458</td>\n",
              "    </tr>\n",
              "    <tr>\n",
              "      <th>2</th>\n",
              "      <td>Art</td>\n",
              "      <td>784</td>\n",
              "    </tr>\n",
              "    <tr>\n",
              "      <th>3</th>\n",
              "      <td>Binders</td>\n",
              "      <td>1492</td>\n",
              "    </tr>\n",
              "    <tr>\n",
              "      <th>4</th>\n",
              "      <td>Bookcases</td>\n",
              "      <td>225</td>\n",
              "    </tr>\n",
              "    <tr>\n",
              "      <th>5</th>\n",
              "      <td>Chairs</td>\n",
              "      <td>606</td>\n",
              "    </tr>\n",
              "    <tr>\n",
              "      <th>6</th>\n",
              "      <td>Copiers</td>\n",
              "      <td>66</td>\n",
              "    </tr>\n",
              "    <tr>\n",
              "      <th>7</th>\n",
              "      <td>Envelopes</td>\n",
              "      <td>247</td>\n",
              "    </tr>\n",
              "    <tr>\n",
              "      <th>8</th>\n",
              "      <td>Fasteners</td>\n",
              "      <td>214</td>\n",
              "    </tr>\n",
              "    <tr>\n",
              "      <th>9</th>\n",
              "      <td>Furnishings</td>\n",
              "      <td>931</td>\n",
              "    </tr>\n",
              "    <tr>\n",
              "      <th>10</th>\n",
              "      <td>Labels</td>\n",
              "      <td>357</td>\n",
              "    </tr>\n",
              "    <tr>\n",
              "      <th>11</th>\n",
              "      <td>Machines</td>\n",
              "      <td>115</td>\n",
              "    </tr>\n",
              "    <tr>\n",
              "      <th>12</th>\n",
              "      <td>Paper</td>\n",
              "      <td>1336</td>\n",
              "    </tr>\n",
              "    <tr>\n",
              "      <th>13</th>\n",
              "      <td>Phones</td>\n",
              "      <td>875</td>\n",
              "    </tr>\n",
              "    <tr>\n",
              "      <th>14</th>\n",
              "      <td>Storage</td>\n",
              "      <td>831</td>\n",
              "    </tr>\n",
              "    <tr>\n",
              "      <th>15</th>\n",
              "      <td>Supplies</td>\n",
              "      <td>184</td>\n",
              "    </tr>\n",
              "    <tr>\n",
              "      <th>16</th>\n",
              "      <td>Tables</td>\n",
              "      <td>314</td>\n",
              "    </tr>\n",
              "  </tbody>\n",
              "</table>\n",
              "</div>"
            ],
            "text/plain": [
              "   Sub-Category  Row ID\n",
              "0   Accessories     754\n",
              "1    Appliances     458\n",
              "2           Art     784\n",
              "3       Binders    1492\n",
              "4     Bookcases     225\n",
              "5        Chairs     606\n",
              "6       Copiers      66\n",
              "7     Envelopes     247\n",
              "8     Fasteners     214\n",
              "9   Furnishings     931\n",
              "10       Labels     357\n",
              "11     Machines     115\n",
              "12        Paper    1336\n",
              "13       Phones     875\n",
              "14      Storage     831\n",
              "15     Supplies     184\n",
              "16       Tables     314"
            ]
          },
          "metadata": {},
          "execution_count": 214
        }
      ]
    },
    {
      "cell_type": "markdown",
      "metadata": {
        "id": "lEnKlgjJZwRN"
      },
      "source": [
        ">2.4 Create a new column storing the time difference between Ship Date and Order Date. What was the longest, shortest and the average delivery time difference?"
      ]
    },
    {
      "cell_type": "code",
      "metadata": {
        "id": "A1ye8bE_Zkvq",
        "colab": {
          "base_uri": "https://localhost:8080/"
        },
        "outputId": "50f55409-1f9b-4c4d-e984-4decce06b0e4"
      },
      "source": [
        "# YOUR CODE HERE\n",
        "df['DiffDate'] = df['Ship Date'] - df['Order Date'] \n",
        "df['DiffDate'][df['DiffDate']==df['DiffDate'].max()]"
      ],
      "execution_count": 223,
      "outputs": [
        {
          "output_type": "execute_result",
          "data": {
            "text/plain": [
              "3      7 days\n",
              "4      7 days\n",
              "16     7 days\n",
              "86     7 days\n",
              "87     7 days\n",
              "        ...  \n",
              "9688   7 days\n",
              "9689   7 days\n",
              "9768   7 days\n",
              "9773   7 days\n",
              "9795   7 days\n",
              "Name: DiffDate, Length: 615, dtype: timedelta64[ns]"
            ]
          },
          "metadata": {},
          "execution_count": 223
        }
      ]
    },
    {
      "cell_type": "markdown",
      "metadata": {
        "id": "tEOwefHvSsbZ"
      },
      "source": [
        "> 2.5. How many orders (not items) had a delivery time of 6 or more days? \n",
        ">\n",
        "> Hint: you may want to use [`pd.Timedelta()`](https://pandas.pydata.org/docs/reference/api/pandas.Timedelta.html)."
      ]
    },
    {
      "cell_type": "code",
      "metadata": {
        "id": "9BoxdiOObUWs",
        "colab": {
          "base_uri": "https://localhost:8080/"
        },
        "outputId": "6ac8c2b6-f20d-4a5c-c7aa-077ae7f014a3"
      },
      "source": [
        "# YOUR CODE HERE\n",
        "df['DiffDate'] = df['Ship Date'] - df['Order Date']\n",
        "df['DiffDate'] "
      ],
      "execution_count": 224,
      "outputs": [
        {
          "output_type": "execute_result",
          "data": {
            "text/plain": [
              "0              3 days\n",
              "1              3 days\n",
              "2              4 days\n",
              "3              7 days\n",
              "4              7 days\n",
              "                ...  \n",
              "9796           5 days\n",
              "9797           5 days\n",
              "9798           5 days\n",
              "9799           5 days\n",
              "Sub-Category      NaT\n",
              "Name: DiffDate, Length: 9790, dtype: timedelta64[ns]"
            ]
          },
          "metadata": {},
          "execution_count": 224
        }
      ]
    },
    {
      "cell_type": "markdown",
      "metadata": {
        "id": "wOm_zWbzmU_n"
      },
      "source": [
        ">2.6. What are the average delivery times for each mode of shipment? Take the average over the total number of items ordered (not over the total number of orders)."
      ]
    },
    {
      "cell_type": "code",
      "metadata": {
        "id": "AnueJAYAmq-K"
      },
      "source": [
        "# YOUR CODE HERE\n"
      ],
      "execution_count": null,
      "outputs": []
    },
    {
      "cell_type": "markdown",
      "metadata": {
        "id": "N9E6QMd-rUwn"
      },
      "source": [
        ">2.7. Create a new column containing the year each order was placed (using Order Date). The plot the number of unique customers per year in a horizontal bar chart."
      ]
    },
    {
      "cell_type": "code",
      "metadata": {
        "id": "OKcMYezGqd-m"
      },
      "source": [
        "# YOUR CODE HERE\n"
      ],
      "execution_count": null,
      "outputs": []
    },
    {
      "cell_type": "markdown",
      "metadata": {
        "id": "7VrpFnfA5g14"
      },
      "source": [
        ">2.8. Churn in 2018 as compared to 2017. Were there any customers in 2017 that the store lost in 2018? If so, how many?"
      ]
    },
    {
      "cell_type": "code",
      "metadata": {
        "id": "nufM8bG-5le9"
      },
      "source": [
        "# YOUR CODE HERE\n"
      ],
      "execution_count": null,
      "outputs": []
    },
    {
      "cell_type": "markdown",
      "metadata": {
        "id": "k_MA0nCqmWk7"
      },
      "source": [
        ">2.9. Generate a table with the average sales by customer segment and by year (take the simple average over the number of items sold). Plot in a line chart the average sales by customer segement over time, with the years on x-axis, the average sales on the y-axis, and a line for each segment."
      ]
    },
    {
      "cell_type": "code",
      "metadata": {
        "id": "xti_5tRwgITF"
      },
      "source": [
        "# YOUR CODE HERE\n"
      ],
      "execution_count": null,
      "outputs": []
    },
    {
      "cell_type": "markdown",
      "metadata": {
        "id": "HlMfHtssI7d8"
      },
      "source": [
        ">2.10. Using `folium`, plot on a map the location of a subset of customers defined below, using circle markers proportionate to the value of their aggregate purchases.\n",
        ">\n",
        "> Only include 2018 data for corporate customers with per item purchases above USD 100. \n",
        ">\n",
        ">A separate database with latitude and longitude measures for US zip codes is provided below. Merge the latitude and longitude with your transactions dataset. Make sure to drop any missing values before plotting your map."
      ]
    },
    {
      "cell_type": "code",
      "metadata": {
        "id": "jgl8TDOTNffd"
      },
      "source": [
        "# import required packages\n",
        "import folium"
      ],
      "execution_count": null,
      "outputs": []
    },
    {
      "cell_type": "code",
      "metadata": {
        "id": "zK_CETAiNmKD"
      },
      "source": [
        "# import latitude and longitude data\n",
        "latlong=pd.read_csv('https://gist.githubusercontent.com/erichurst/7882666/raw/5bdc46db47d9515269ab12ed6fb2850377fd869e/US%2520Zip%2520Codes%2520from%25202013%2520Government%2520Data', \n",
        "                    dtype={'ZIP': 'str'})\n",
        "latlong.head()"
      ],
      "execution_count": null,
      "outputs": []
    },
    {
      "cell_type": "code",
      "metadata": {
        "id": "wckhNfH0QcC6"
      },
      "source": [
        "# YOUR CODE HERE FOR SELECTING THE SUBSET\n"
      ],
      "execution_count": null,
      "outputs": []
    },
    {
      "cell_type": "code",
      "metadata": {
        "id": "k2xJfDJwOxTN"
      },
      "source": [
        "# YOUR CODE HERE FOR MERGING THE SUBSET WITH THE LATITUDE AND LONGITUDE DATA\n"
      ],
      "execution_count": null,
      "outputs": []
    },
    {
      "cell_type": "code",
      "metadata": {
        "id": "iLie4FgVPrgu"
      },
      "source": [
        "# YOUR CODE HERE FOR GENERATING THE MAP\n"
      ],
      "execution_count": null,
      "outputs": []
    },
    {
      "cell_type": "markdown",
      "metadata": {
        "id": "t-0sesaUf_RL"
      },
      "source": [
        "## 3. Regression Analysis"
      ]
    },
    {
      "cell_type": "markdown",
      "metadata": {
        "id": "FFibkCBasHtX"
      },
      "source": [
        "For this section please work on data aggregated by daily sales in USD. Here we are providing the dataframe for you. The regression dataset contains observations on sales aggregated by day, including:\n",
        "* the date of the orders\n",
        "* the number of orders received on that day\n",
        "* the number of items ordered on that day\n",
        "* the number of customer segments represented in the orders for that day\n",
        "* the number of product sub-categories included\n",
        "* the aggregated value of daily sales in USD\n",
        "* the year, the month, and the day of the transactions stored separately."
      ]
    },
    {
      "cell_type": "markdown",
      "metadata": {
        "id": "C7DWGp1QRJWF"
      },
      "source": [
        ">Load the data."
      ]
    },
    {
      "cell_type": "code",
      "metadata": {
        "id": "SJ6VGI7_B9dY"
      },
      "source": [
        "#Upload the data\n",
        "new_data=pd.read_csv('https://raw.githubusercontent.com/michalis0/DataMining_and_MachineLearning/master/data/regression_sales.csv')"
      ],
      "execution_count": null,
      "outputs": []
    },
    {
      "cell_type": "markdown",
      "metadata": {
        "id": "Uo47uxUJS9S0"
      },
      "source": [
        ">3.1.1. Generate descriptive statistics"
      ]
    },
    {
      "cell_type": "code",
      "metadata": {
        "id": "V4yFDfS_SoHz"
      },
      "source": [
        "# YOUR CODE HERE\n"
      ],
      "execution_count": null,
      "outputs": []
    },
    {
      "cell_type": "markdown",
      "metadata": {
        "id": "UH-b8Rg8lcqA"
      },
      "source": [
        ">3.1.2. Plot the distribution of sales per day, using bins=50. Then create a new column equal to the natural logarithm of sales per day and plot its histogram as well."
      ]
    },
    {
      "cell_type": "code",
      "metadata": {
        "id": "0DNwPUQKlAxv"
      },
      "source": [
        "# YOUR CODE HERE\n"
      ],
      "execution_count": null,
      "outputs": []
    },
    {
      "cell_type": "markdown",
      "metadata": {
        "id": "rxaRIn6dPaJB"
      },
      "source": [
        ">3.1.3. Create a pairplot with the log of sales per day on the horizontal axis and on the vertical axis the number of items ordered and number of orders."
      ]
    },
    {
      "cell_type": "code",
      "metadata": {
        "id": "DRlpC5RKjhWD"
      },
      "source": [
        "# YOUR CODE HERE\n"
      ],
      "execution_count": null,
      "outputs": []
    },
    {
      "cell_type": "markdown",
      "metadata": {
        "id": "82bShao5Fznv"
      },
      "source": [
        "## Simple Linear Regression"
      ]
    },
    {
      "cell_type": "markdown",
      "metadata": {
        "id": "9ggDe8YUV2Q1"
      },
      "source": [
        ">3.2 Regress log of sales on number of orders, number of items, number of segments, year, month and day.\n",
        ">\n",
        ">3.2.1. Select the dependent (y) and the independent variables (X)."
      ]
    },
    {
      "cell_type": "code",
      "metadata": {
        "id": "raGHDpTGABHR"
      },
      "source": [
        "# YOUR CODE HERE\n",
        "y = \n",
        "X = "
      ],
      "execution_count": null,
      "outputs": []
    },
    {
      "cell_type": "markdown",
      "metadata": {
        "id": "G6539viLWhTb"
      },
      "source": [
        ">3.2.2 Split your dataset into a training set (80%) and a test set (20%). Use sklearn.model_selection.train_test_split() and set the **random_state to 77.**"
      ]
    },
    {
      "cell_type": "code",
      "metadata": {
        "id": "GjpqtBa_CFmo"
      },
      "source": [
        "# YOUR CODE HERE\n"
      ],
      "execution_count": null,
      "outputs": []
    },
    {
      "cell_type": "markdown",
      "metadata": {
        "id": "I7bUXy-BWzsZ"
      },
      "source": [
        ">3.2.3 Train a linear regression model on the training data. What is the R^2 score for the test data?"
      ]
    },
    {
      "cell_type": "code",
      "metadata": {
        "id": "RqdPe2awCJ1r"
      },
      "source": [
        "# YOUR CODE HERE\n"
      ],
      "execution_count": null,
      "outputs": []
    },
    {
      "cell_type": "markdown",
      "metadata": {
        "id": "OMwWUxiQXMg1"
      },
      "source": [
        ">3.2.4. Predict what would be the total value of sales in USD on 15 January 2019 assuming there were 3 orders received on that day, including 9 items, from 3 segments."
      ]
    },
    {
      "cell_type": "code",
      "metadata": {
        "id": "kAJcWSR7rSpG"
      },
      "source": [
        "# YOUR CODE HERE\n"
      ],
      "execution_count": null,
      "outputs": []
    },
    {
      "cell_type": "markdown",
      "metadata": {
        "id": "LxDaG_fkgi27"
      },
      "source": [
        "## Linear Regression with Standardization"
      ]
    },
    {
      "cell_type": "markdown",
      "metadata": {
        "id": "NHdx7ZB-k1zg"
      },
      "source": [
        "> 3.2.5. Apply a standard scaler to the following columns: number_orders, number_items, number_segments. \n",
        "> \n",
        "> Hint: use the scaler on the already split data. Fit-transform the scaler on X_train and apply transform on X_test."
      ]
    },
    {
      "cell_type": "code",
      "metadata": {
        "id": "0oOsS4aXlKlJ"
      },
      "source": [
        "# YOUR CODE HERE\n"
      ],
      "execution_count": null,
      "outputs": []
    },
    {
      "cell_type": "markdown",
      "metadata": {
        "id": "FP_JknHfm8Q1"
      },
      "source": [
        "> 3.2.6. Train a linear regression model with the standardised data. What is the R^2 score for the test data?"
      ]
    },
    {
      "cell_type": "code",
      "metadata": {
        "id": "YTuVpyJ3mz9l"
      },
      "source": [
        "# YOUR CODE HERE\n"
      ],
      "execution_count": null,
      "outputs": []
    },
    {
      "cell_type": "markdown",
      "metadata": {
        "id": "DLMX97zuoDUI"
      },
      "source": [
        "> 3.2.7. Predict what would be the total number of sales in USD on 15 January 2019 assuming 3 orders received on that day, including 9 items, from 3 segments"
      ]
    },
    {
      "cell_type": "code",
      "metadata": {
        "id": "GqBE6AAIoCht"
      },
      "source": [
        "# YOUR CODE HERE\n"
      ],
      "execution_count": null,
      "outputs": []
    },
    {
      "cell_type": "markdown",
      "metadata": {
        "id": "_-A89FoxGLs7"
      },
      "source": [
        ">3.2.8. Looking at the coefficients from the linear regression with standardization, identify which variable is the most significant in this model. "
      ]
    },
    {
      "cell_type": "code",
      "metadata": {
        "id": "CZDd1zbMHT2d"
      },
      "source": [
        "# YOUR CODE HERE"
      ],
      "execution_count": null,
      "outputs": []
    },
    {
      "cell_type": "markdown",
      "metadata": {
        "id": "W3wd9q3MU6Vw"
      },
      "source": [
        "> 3.2.9. Calculate the adjusted R-squared and identify the optimum regression coefficients using linear regression with standardisation. \n",
        ">\n",
        "> Hint: calculate the adjusted R-squared for the full model with linear regression and standardisation (as above). The try dropping either one of the columns: 'number_orders', 'number_items', 'number_segments' and recalculate adjusted R-squared for every new model. Identify which combination of features gives the highest adjusted R-squared. \n",
        ">\n",
        ">Check out this documentation file on the [adjusted R-squared](https://www.statology.org/adjusted-r-squared-in-python/)."
      ]
    },
    {
      "cell_type": "code",
      "metadata": {
        "id": "dEC1IdtvYDpX"
      },
      "source": [
        "# YOUR CODE HERE\n"
      ],
      "execution_count": null,
      "outputs": []
    },
    {
      "cell_type": "markdown",
      "metadata": {
        "id": "EXV4bXP2bw9d"
      },
      "source": [
        "Train the model when you drop `number_segments` and calculate the adjusted R-squared."
      ]
    },
    {
      "cell_type": "code",
      "metadata": {
        "id": "VqvTgUV3a5_7"
      },
      "source": [
        "# YOUR CODE HERE\n"
      ],
      "execution_count": null,
      "outputs": []
    },
    {
      "cell_type": "markdown",
      "metadata": {
        "id": "GV5vh6Leb655"
      },
      "source": [
        "Train the model when you drop `number_items` and calculate the adjusted R-squared."
      ]
    },
    {
      "cell_type": "code",
      "metadata": {
        "id": "cGRbZ-EJcBBv"
      },
      "source": [
        "# YOUR CODE HERE\n"
      ],
      "execution_count": null,
      "outputs": []
    },
    {
      "cell_type": "markdown",
      "metadata": {
        "id": "8KautFYzcUN4"
      },
      "source": [
        "Train the model when you drop `number_orders` and calculate the adjusted R-squared."
      ]
    },
    {
      "cell_type": "code",
      "metadata": {
        "id": "t2pDrzyLcaq9"
      },
      "source": [
        "# YOUR CODE HERE\n"
      ],
      "execution_count": null,
      "outputs": []
    }
  ]
}